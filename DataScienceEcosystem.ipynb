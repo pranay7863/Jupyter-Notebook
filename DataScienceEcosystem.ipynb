{
 "cells": [
  {
   "cell_type": "markdown",
   "id": "b0117af8-1a26-443c-a2f9-5fcbb309145f",
   "metadata": {},
   "source": [
    "# H1: Data Science Tools and Ecosystem"
   ]
  },
  {
   "cell_type": "markdown",
   "id": "42173ea4-2b05-4851-8365-34e9ab9caf59",
   "metadata": {},
   "source": [
    "# In this notebook, Data Science Tools and Ecosystem are summarized."
   ]
  },
  {
   "cell_type": "markdown",
   "id": "b4cb0bdf-d57e-4581-9903-4482d4657152",
   "metadata": {},
   "source": [
    "# **Objectives:**\n",
    "\n",
    "- Most Popular tools used in data science are Github, Jupyter notebook, Rstudio\n",
    "- Most Popular languages used in Data Science are Python, R, SQL\n",
    "- Commonly used libraries used by Data Scientists include Matplotlib, panda, numpy"
   ]
  },
  {
   "cell_type": "markdown",
   "id": "a1526ba6-15f6-4995-969b-7c5498d61676",
   "metadata": {
    "jp-MarkdownHeadingCollapsed": true
   },
   "source": [
    "# Some of the popular languages that Data Scientists use are:\n",
    "\n",
    "1. Python\n",
    "2. R\n",
    "3. SQL"
   ]
  },
  {
   "cell_type": "markdown",
   "id": "fe8bfad1-40ff-4bd2-9045-1d4e356ccb96",
   "metadata": {
    "jp-MarkdownHeadingCollapsed": true
   },
   "source": [
    "# Some of the commonly used libraries used by Data Scientists include:\n",
    "\n",
    "1. matplotlib\n",
    "2. panda\n",
    "3. numpy"
   ]
  },
  {
   "cell_type": "markdown",
   "id": "f8c556f5-e0ac-4d86-b3e6-01dee699e169",
   "metadata": {},
   "source": [
    "#  table of Data Science tools\n",
    "| Data Science Tools |\n",
    "|--------------------|\n",
    "| Jupyter Notebook |\n",
    "| Rstudio |\n",
    "| Github |"
   ]
  },
  {
   "cell_type": "markdown",
   "id": "ecc7fe8e-15a7-4250-8213-a58842d2270a",
   "metadata": {},
   "source": [
    "# H3 : Below are a few examples of evaluating arithmetic expressions in Python"
   ]
  },
  {
   "cell_type": "code",
   "execution_count": 3,
   "id": "42db533e-a944-4607-ad32-21c101381ea0",
   "metadata": {},
   "outputs": [
    {
     "name": "stdout",
     "output_type": "stream",
     "text": [
      "17\n"
     ]
    }
   ],
   "source": [
    "# This a simple arithmetic expression to mutiply then add integers\n",
    "\n",
    "print((3*4)+5)"
   ]
  },
  {
   "cell_type": "code",
   "execution_count": 4,
   "id": "6bef6ce8-871c-4299-b982-63dab3cf8e21",
   "metadata": {},
   "outputs": [
    {
     "name": "stdout",
     "output_type": "stream",
     "text": [
      "3.3333333333333335\n"
     ]
    }
   ],
   "source": [
    "# This will convert 200 minutes to hours by diving by 60\n",
    "\n",
    "print(200/60)"
   ]
  },
  {
   "cell_type": "markdown",
   "id": "52dfba22-0722-463b-a42d-da109c129518",
   "metadata": {},
   "source": [
    "#  H2: Author\n",
    "# Pranay"
   ]
  },
  {
   "cell_type": "code",
   "execution_count": null,
   "id": "a1ab6c31-51fd-4e53-9494-082ccc5d9b32",
   "metadata": {},
   "outputs": [],
   "source": []
  }
 ],
 "metadata": {
  "kernelspec": {
   "display_name": "Python 3 (ipykernel)",
   "language": "python",
   "name": "python3"
  },
  "language_info": {
   "codemirror_mode": {
    "name": "ipython",
    "version": 3
   },
   "file_extension": ".py",
   "mimetype": "text/x-python",
   "name": "python",
   "nbconvert_exporter": "python",
   "pygments_lexer": "ipython3",
   "version": "3.12.8"
  }
 },
 "nbformat": 4,
 "nbformat_minor": 5
}
